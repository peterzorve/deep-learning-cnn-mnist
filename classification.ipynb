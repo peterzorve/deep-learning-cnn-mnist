{
 "cells": [
  {
   "attachments": {},
   "cell_type": "markdown",
   "metadata": {},
   "source": [
    "## Import Libraries"
   ]
  },
  {
   "cell_type": "code",
   "execution_count": 2,
   "metadata": {},
   "outputs": [],
   "source": [
    "import torch \n",
    "import torch.nn as nn \n",
    "import torch.nn.functional as F \n",
    "from pickletools import optimize\n",
    "from numpy import average\n",
    "from torch.utils.data import DataLoader \n",
    "from torchvision import transforms, datasets \n",
    "import torch.optim as optim \n",
    "from sklearn.metrics import accuracy_score\n",
    "import matplotlib.pyplot as plt "
   ]
  },
  {
   "attachments": {},
   "cell_type": "markdown",
   "metadata": {},
   "source": [
    "## Build Model"
   ]
  },
  {
   "cell_type": "code",
   "execution_count": 3,
   "metadata": {},
   "outputs": [],
   "source": [
    "class MNIST_Classifier(nn.Module):\n",
    "    def __init__(self):\n",
    "        super(MNIST_Classifier, self).__init__()   \n",
    "\n",
    "        self.conv1 = nn.Conv2d(in_channels=1,  out_channels=32,  kernel_size=3,  stride=1,  padding=0)  \n",
    "        self.conv2 = nn.Conv2d(in_channels=32, out_channels=64,  kernel_size=3,  stride=1,  padding=0)                                           \n",
    "\n",
    "        self.pool1 = nn.MaxPool2d(kernel_size=3, stride=1)\n",
    "\n",
    "        self.fc1 = nn.Linear(64*20*20, 256)\n",
    "        self.fc2 = nn.Linear(256, 256)\n",
    "        self.fc3 = nn.Linear(256, 128)\n",
    "        self.fc4 = nn.Linear(128, 10)\n",
    "\n",
    "     #    self.softmax = nn.Softmax(dim=1)\n",
    "\n",
    "    def forward(self, x):\n",
    "        x = self.pool1( F.relu( self.conv1(x) ))\n",
    "        x = self.pool1( F.relu( self.conv2(x) ))\n",
    "\n",
    "        # print(x.shape)\n",
    "        x = x.view(x.shape[0], -1)\n",
    "\n",
    "        x = F.relu(self.fc1(x))\n",
    "        x = F.relu(self.fc2(x))\n",
    "        x = F.relu(self.fc3(x))\n",
    "        x = self.fc4(x)\n",
    "\n",
    "     #    x = self.softmax(x)\n",
    "\n",
    "        return x"
   ]
  },
  {
   "attachments": {},
   "cell_type": "markdown",
   "metadata": {},
   "source": [
    "## Check Model Statues"
   ]
  },
  {
   "cell_type": "code",
   "execution_count": 4,
   "metadata": {},
   "outputs": [
    {
     "name": "stdout",
     "output_type": "stream",
     "text": [
      "tensor([[ 4.7012e-02,  1.8738e-02, -1.4273e-04,  1.1713e-01,  6.6123e-02,\n",
      "          7.2576e-02, -4.8202e-02, -1.1526e-01, -7.4869e-02,  6.7001e-02],\n",
      "        [ 4.7440e-02,  1.8285e-02, -1.4157e-03,  1.1879e-01,  6.6875e-02,\n",
      "          7.1553e-02, -4.8141e-02, -1.1474e-01, -7.5494e-02,  6.7304e-02],\n",
      "        [ 4.6233e-02,  1.8073e-02,  4.4403e-04,  1.1679e-01,  6.6275e-02,\n",
      "          7.1697e-02, -4.8450e-02, -1.1598e-01, -7.5454e-02,  6.7101e-02],\n",
      "        [ 4.5973e-02,  1.8021e-02, -1.0451e-03,  1.1797e-01,  6.6621e-02,\n",
      "          7.1245e-02, -4.8695e-02, -1.1384e-01, -7.5158e-02,  6.8290e-02],\n",
      "        [ 4.5231e-02,  1.8680e-02, -1.8438e-04,  1.1794e-01,  6.6005e-02,\n",
      "          7.1070e-02, -4.7873e-02, -1.1497e-01, -7.6638e-02,  6.8482e-02],\n",
      "        [ 4.8636e-02,  1.7359e-02, -7.2243e-04,  1.1783e-01,  6.5459e-02,\n",
      "          7.2129e-02, -4.7934e-02, -1.1419e-01, -7.5873e-02,  6.7639e-02],\n",
      "        [ 4.7211e-02,  1.8240e-02, -4.6466e-04,  1.1813e-01,  6.7317e-02,\n",
      "          7.2146e-02, -4.7799e-02, -1.1472e-01, -7.5984e-02,  6.8503e-02],\n",
      "        [ 4.6555e-02,  1.6919e-02, -3.1699e-04,  1.1762e-01,  6.6235e-02,\n",
      "          7.3069e-02, -4.8148e-02, -1.1412e-01, -7.6658e-02,  6.8888e-02],\n",
      "        [ 4.8202e-02,  1.7825e-02,  7.8974e-05,  1.1864e-01,  6.6377e-02,\n",
      "          7.4239e-02, -4.8356e-02, -1.1612e-01, -7.8273e-02,  6.8489e-02],\n",
      "        [ 4.7056e-02,  1.8000e-02, -4.5703e-04,  1.1936e-01,  6.6071e-02,\n",
      "          7.1783e-02, -4.7782e-02, -1.1504e-01, -7.6722e-02,  6.8432e-02],\n",
      "        [ 4.7839e-02,  1.8577e-02,  4.7836e-04,  1.1616e-01,  6.6706e-02,\n",
      "          7.1827e-02, -4.8405e-02, -1.1513e-01, -7.4908e-02,  6.6918e-02],\n",
      "        [ 4.6132e-02,  1.7030e-02, -1.0754e-03,  1.1932e-01,  6.6456e-02,\n",
      "          7.2251e-02, -4.8668e-02, -1.1415e-01, -7.4443e-02,  6.8465e-02],\n",
      "        [ 4.5835e-02,  1.6845e-02, -1.3405e-03,  1.1908e-01,  6.6530e-02,\n",
      "          7.2356e-02, -4.7513e-02, -1.1436e-01, -7.4798e-02,  6.7581e-02],\n",
      "        [ 4.7281e-02,  1.7767e-02, -8.3841e-04,  1.1755e-01,  6.5881e-02,\n",
      "          7.1695e-02, -4.8472e-02, -1.1407e-01, -7.6062e-02,  6.7241e-02],\n",
      "        [ 4.5614e-02,  1.7220e-02, -4.7253e-04,  1.1625e-01,  6.6268e-02,\n",
      "          7.1326e-02, -4.7676e-02, -1.1453e-01, -7.4462e-02,  6.6078e-02],\n",
      "        [ 4.8430e-02,  1.8750e-02,  1.5500e-03,  1.1766e-01,  6.7165e-02,\n",
      "          7.2112e-02, -4.9751e-02, -1.1608e-01, -7.5462e-02,  6.8043e-02],\n",
      "        [ 4.7534e-02,  1.8026e-02, -2.0261e-03,  1.1876e-01,  6.7453e-02,\n",
      "          7.1530e-02, -4.8598e-02, -1.1424e-01, -7.5644e-02,  6.6596e-02],\n",
      "        [ 4.6023e-02,  1.6662e-02,  3.6638e-04,  1.2002e-01,  6.6881e-02,\n",
      "          7.1294e-02, -4.7734e-02, -1.1328e-01, -7.6665e-02,  6.8000e-02],\n",
      "        [ 4.6116e-02,  1.8974e-02, -1.5594e-05,  1.1849e-01,  6.6969e-02,\n",
      "          7.1641e-02, -4.9825e-02, -1.1360e-01, -7.5823e-02,  6.7311e-02],\n",
      "        [ 4.7346e-02,  1.7824e-02, -9.1652e-04,  1.1671e-01,  6.7257e-02,\n",
      "          7.1987e-02, -4.8335e-02, -1.1400e-01, -7.5700e-02,  6.6809e-02],\n",
      "        [ 4.7183e-02,  1.7700e-02, -4.6056e-04,  1.1702e-01,  6.6960e-02,\n",
      "          7.2540e-02, -4.7577e-02, -1.1509e-01, -7.5007e-02,  6.8502e-02],\n",
      "        [ 4.6244e-02,  1.8551e-02, -1.5315e-03,  1.1855e-01,  6.6606e-02,\n",
      "          7.0946e-02, -4.7211e-02, -1.1342e-01, -7.5131e-02,  6.7002e-02],\n",
      "        [ 4.7908e-02,  1.7219e-02, -1.6497e-03,  1.1833e-01,  6.5607e-02,\n",
      "          7.2904e-02, -4.7617e-02, -1.1473e-01, -7.5589e-02,  6.8174e-02],\n",
      "        [ 4.6450e-02,  1.7532e-02,  1.5383e-03,  1.1675e-01,  6.6225e-02,\n",
      "          7.2307e-02, -4.7703e-02, -1.1557e-01, -7.4176e-02,  6.9099e-02],\n",
      "        [ 4.6698e-02,  1.7385e-02,  1.8424e-04,  1.1934e-01,  6.7773e-02,\n",
      "          7.2106e-02, -4.7245e-02, -1.1439e-01, -7.4771e-02,  6.7437e-02],\n",
      "        [ 4.6935e-02,  1.8263e-02, -1.7578e-04,  1.1642e-01,  6.4782e-02,\n",
      "          7.2819e-02, -4.7803e-02, -1.1665e-01, -7.5050e-02,  6.8634e-02],\n",
      "        [ 4.6756e-02,  1.6776e-02, -8.1044e-05,  1.1729e-01,  6.6259e-02,\n",
      "          7.2049e-02, -4.7578e-02, -1.1653e-01, -7.5987e-02,  6.8912e-02],\n",
      "        [ 4.6337e-02,  1.7080e-02, -5.6902e-04,  1.1769e-01,  6.6574e-02,\n",
      "          7.0500e-02, -4.6868e-02, -1.1560e-01, -7.6425e-02,  6.8524e-02],\n",
      "        [ 4.7743e-02,  1.7217e-02, -1.3065e-03,  1.1613e-01,  6.5945e-02,\n",
      "          7.3767e-02, -4.8051e-02, -1.1522e-01, -7.6375e-02,  6.8668e-02],\n",
      "        [ 4.7044e-02,  1.7477e-02, -5.5701e-05,  1.2000e-01,  6.5703e-02,\n",
      "          7.2310e-02, -4.7564e-02, -1.1488e-01, -7.6015e-02,  6.8652e-02],\n",
      "        [ 4.6922e-02,  1.8345e-02, -8.0639e-04,  1.1878e-01,  6.6706e-02,\n",
      "          7.1820e-02, -4.9836e-02, -1.1402e-01, -7.5249e-02,  6.7779e-02],\n",
      "        [ 4.5653e-02,  1.8238e-02, -3.8145e-04,  1.1813e-01,  6.7789e-02,\n",
      "          7.1580e-02, -4.8930e-02, -1.1356e-01, -7.5121e-02,  6.7356e-02]],\n",
      "       grad_fn=<AddmmBackward0>)\n"
     ]
    }
   ],
   "source": [
    "fake_data = torch.rand((32, 1, 28, 28))\n",
    "model = MNIST_Classifier()\n",
    "\n",
    "print(model.forward(fake_data))"
   ]
  },
  {
   "attachments": {},
   "cell_type": "markdown",
   "metadata": {},
   "source": [
    "## Transformations"
   ]
  },
  {
   "cell_type": "code",
   "execution_count": 5,
   "metadata": {},
   "outputs": [],
   "source": [
    "transforms_train = transforms.Compose([transforms.ToTensor(), transforms.Normalize(mean=[0.5,], std=[0.5,])])\n",
    "transforms_test  = transforms.Compose([transforms.ToTensor(), transforms.Normalize(mean=[0.5,], std=[0.5,])])"
   ]
  },
  {
   "attachments": {},
   "cell_type": "markdown",
   "metadata": {},
   "source": [
    "## Datasets and DataLoader"
   ]
  },
  {
   "cell_type": "code",
   "execution_count": 6,
   "metadata": {},
   "outputs": [],
   "source": [
    "datasets_train = datasets.MNIST(root='data/', download=True, train=True,  transform=transforms_train)\n",
    "datasets_test  = datasets.MNIST(root='data/', download=True, train=False, transform=transforms_test)\n",
    "\n",
    "dataloader_train = DataLoader(dataset=datasets_train, batch_size=32, shuffle=True)\n",
    "dataloader_test  = DataLoader(dataset=datasets_test,  batch_size=32, shuffle=True)"
   ]
  },
  {
   "attachments": {},
   "cell_type": "markdown",
   "metadata": {},
   "source": [
    "## Instantiate Model, Loss Function, and Activation Function"
   ]
  },
  {
   "cell_type": "code",
   "execution_count": 7,
   "metadata": {},
   "outputs": [],
   "source": [
    "model = MNIST_Classifier()\n",
    "criterion = nn.CrossEntropyLoss()\n",
    "optimizer = optim.Adam(model.parameters(), lr=0.001)\n",
    "\n",
    "device = 'cuda' if torch.cuda.is_available() else 'cpu' "
   ]
  },
  {
   "attachments": {},
   "cell_type": "markdown",
   "metadata": {},
   "source": [
    "## Start Training"
   ]
  },
  {
   "cell_type": "code",
   "execution_count": null,
   "metadata": {},
   "outputs": [],
   "source": [
    "epochs, all_train_losses, all_test_losses, all_accuracies = 10, [], [], []\n",
    "\n",
    "for epoch in range(epochs):\n",
    "     train_losses, test_losses, test_accuracies = 0, 0, 0 \n",
    "     for idx_train, (feature_train, target_train) in enumerate(iter(dataloader_train)):\n",
    "\n",
    "          optimizer.zero_grad()\n",
    "\n",
    "          prediction_train = model.forward(feature_train)\n",
    "          loss_train = criterion(prediction_train, target_train)\n",
    "          loss_train.backward()\n",
    "          optimizer.step()\n",
    "\n",
    "          train_losses += loss_train.item()\n",
    "\n",
    "     average_train_losses = train_losses/len(dataloader_train)\n",
    "     all_train_losses.append(average_train_losses)\n",
    "\n",
    "     model.eval()\n",
    "     with torch.no_grad():\n",
    "          for idx_test, (feature_test, target_test) in enumerate(iter(dataloader_test)): \n",
    "\n",
    "               prediction_test = model.forward(feature_test)\n",
    "               loss_test = criterion(prediction_test, target_test)\n",
    "\n",
    "               test_losses += loss_test.item() \n",
    "\n",
    "               prediction_class = torch.argmax(prediction_test, dim=1)\n",
    "               test_accuracies += accuracy_score(prediction_class, target_test)\n",
    "\n",
    "          average_test_losses = test_losses/len(dataloader_test)\n",
    "          all_test_losses.append(average_test_losses)\n",
    "\n",
    "          average_test_accuracies = test_accuracies/len(dataloader_test)\n",
    "          all_accuracies.append(average_test_accuracies)\n",
    "     model.train()\n",
    "\n",
    "     print(f'{epoch+1:3}/{epochs} :  Train Loss : {average_train_losses:.6f}  |  Test Loss : {average_test_losses:.6f}  | Accuracy : {average_test_accuracies:.6f}')"
   ]
  },
  {
   "attachments": {},
   "cell_type": "markdown",
   "metadata": {},
   "source": [
    "## Save Trained Model"
   ]
  },
  {
   "cell_type": "code",
   "execution_count": 9,
   "metadata": {},
   "outputs": [],
   "source": [
    "torch.save({\"model_state\": model.state_dict(), \"input_size\": 28*28}, 'trained_model')"
   ]
  },
  {
   "attachments": {},
   "cell_type": "markdown",
   "metadata": {},
   "source": [
    "## Plot Trained Results"
   ]
  },
  {
   "cell_type": "code",
   "execution_count": 10,
   "metadata": {},
   "outputs": [
    {
     "data": {
      "image/png": "[encoded data removed]",
      "text/plain": [
       "<Figure size 640x480 with 1 Axes>"
      ]
     },
     "metadata": {},
     "output_type": "display_data"
    }
   ],
   "source": [
    "plt.plot(all_train_losses, label='Training Losses')\n",
    "plt.plot(all_test_losses,  label='Testing Lossess')\n",
    "plt.plot(all_accuracies,   label='Accuracy')\n",
    "plt.show()"
   ]
  },
  {
   "attachments": {},
   "cell_type": "markdown",
   "metadata": {},
   "source": [
    "## Load Trained Model"
   ]
  },
  {
   "cell_type": "code",
   "execution_count": 11,
   "metadata": {},
   "outputs": [
    {
     "data": {
      "text/plain": [
       "<All keys matched successfully>"
      ]
     },
     "execution_count": 11,
     "metadata": {},
     "output_type": "execute_result"
    }
   ],
   "source": [
    "train_model = torch.load('trained_model')\n",
    "model_state = train_model['model_state']\n",
    "\n",
    "model = MNIST_Classifier()\n",
    "model.load_state_dict(model_state)"
   ]
  },
  {
   "attachments": {},
   "cell_type": "markdown",
   "metadata": {},
   "source": [
    "## Make Predictions"
   ]
  },
  {
   "cell_type": "code",
   "execution_count": 12,
   "metadata": {},
   "outputs": [],
   "source": [
    "def make_predict(image_path, model):\n",
    "     preprocessor = transforms.Compose([ transforms.Grayscale()   , transforms.Resize((28, 28)),  transforms.ToTensor(),  transforms.Normalize([0.5], [0.5])  ])\n",
    "     classes_dict = {0:'Zero',  1:'One',   2:'Two',  3:'Three',  4:'Four',  5:'Five',   6:'Six',  7:'Seven',   8:'Eight',   9:'Nine' }\n",
    "\n",
    "     image = Image.open(image_path)\n",
    "     processed_image = preprocessor(image)\n",
    "     processed_image = processed_image.view(1, *processed_image.shape)\n",
    "\n",
    "     model.eval()\n",
    "     with torch.no_grad():\n",
    "          prediction = model.forward(processed_image)\n",
    "          _, prediction_class = torch.max(prediction, dim=1)\n",
    "\n",
    "     plt.imshow(image, cmap='gray')\n",
    "     plt.title(f'Prediction digit:  {prediction_class.item()}    ({classes_dict[prediction_class.item()]})', fontsize=15)\n",
    "     plt.show()\n",
    "\n",
    "     return\n",
    "\n",
    "     "
   ]
  },
  {
   "cell_type": "code",
   "execution_count": null,
   "metadata": {},
   "outputs": [],
   "source": [
    "from PIL import ImageTk, Image\n",
    "\n",
    "number = ['2', '5', '6']\n",
    "\n",
    "root_path = \"C:/Users/zorve/OneDrive/Documents/github datasets/cat_vs_dog/check/img_\"\n",
    "root_path = \"C:/Users/zorve/OneDrive/Documents/github datasets/4.3/\"\n",
    "\n",
    "# for i in range(0, 11, 1):\n",
    "for i in number:    \n",
    "     image_path_arg = root_path +  str(i) + \".png\"\n",
    "     image_path = image_path_arg\n",
    "     make_predict(image_path, model)"
   ]
  }
 ],
 "metadata": {
  "kernelspec": {
   "display_name": "deeplearning",
   "language": "python",
   "name": "python3"
  },
  "language_info": {
   "codemirror_mode": {
    "name": "ipython",
    "version": 3
   },
   "file_extension": ".py",
   "mimetype": "text/x-python",
   "name": "python",
   "nbconvert_exporter": "python",
   "pygments_lexer": "ipython3",
   "version": "3.8.13"
  },
  "orig_nbformat": 4
 },
 "nbformat": 4,
 "nbformat_minor": 2
}
